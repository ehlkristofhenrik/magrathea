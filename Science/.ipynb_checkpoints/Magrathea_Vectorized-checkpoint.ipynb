{
 "cells": [
  {
   "cell_type": "markdown",
   "id": "5ff7bb81-ec11-4657-b736-42f5421ecd30",
   "metadata": {},
   "source": [
    "# Vectorization"
   ]
  },
  {
   "cell_type": "code",
   "execution_count": 1,
   "id": "48cd456a-97df-44ba-8a33-b8be727fc3db",
   "metadata": {},
   "outputs": [],
   "source": [
    "import warnings\n",
    "import numpy as np\n",
    "\n",
    "warnings.filterwarnings('ignore')"
   ]
  },
  {
   "cell_type": "code",
   "execution_count": 5,
   "id": "a88774d4-cfc6-49fc-a58c-9faff114c83b",
   "metadata": {},
   "outputs": [],
   "source": [
    "matrix = np.array([\n",
    "    [ 0, 0 ],\n",
    "    [ 1, 1 ],\n",
    "    [ 2, 2 ]\n",
    "], dtype = np.float64 )\n",
    "\n",
    "weight = np.ones( len( matrix ), dtype = np.float64 )"
   ]
  },
  {
   "cell_type": "code",
   "execution_count": 3,
   "id": "52536de6-0dff-4b4f-98e4-30ba6b9a082c",
   "metadata": {},
   "outputs": [],
   "source": [
    "def distance_squared_matrix( matrix, dtype = np.float64 ):\n",
    "    N = len( matrix )\n",
    "    distance = np.zeros( ( N, N ), dtype = dtype )\n",
    "    for i, point in enumerate( matrix ):\n",
    "        distance[:,i] = np.sum( ( matrix - point ) ** 2, axis = 1 )\n",
    "    return distance"
   ]
  },
  {
   "cell_type": "code",
   "execution_count": 46,
   "id": "acc068a4-19e7-48f1-a671-70e0a31e7626",
   "metadata": {},
   "outputs": [],
   "source": [
    "def calculate_matrices( X, Y, dtype = np.float64 ):\n",
    "    assert( len( X ) == len( Y ) )\n",
    "    N = len( X )\n",
    "    distance = np.zeros()\n",
    "    difference_X = np.zeros( ( N, N ), dtype = dtype )\n",
    "    difference_Y = np.zeros( ( N, N ), dtype = dtype )\n",
    "    for i in range( N ):\n",
    "        point = np.array( [ X[i], Y[i] ] )\n",
    "        \n",
    "    "
   ]
  },
  {
   "cell_type": "code",
   "execution_count": 42,
   "id": "f0e5bcdd-60e0-4918-af20-ff8e0e86f199",
   "metadata": {},
   "outputs": [
    {
     "name": "stdout",
     "output_type": "stream",
     "text": [
      "[[0. 0.]\n",
      " [1. 1.]\n",
      " [2. 2.]]\n",
      "[[-1. -1.]\n",
      " [ 0.  0.]\n",
      " [ 1.  1.]]\n",
      "[[-2. -2.]\n",
      " [-1. -1.]\n",
      " [ 0.  0.]]\n"
     ]
    },
    {
     "data": {
      "text/plain": [
       "(array([[0.        , 1.41421356, 2.82842712],\n",
       "        [1.41421356, 0.        , 1.41421356],\n",
       "        [2.82842712, 1.41421356, 0.        ]]),\n",
       " array([[0., 2., 8.],\n",
       "        [2., 0., 2.],\n",
       "        [8., 2., 0.]]),\n",
       " array([[[0., 0.],\n",
       "         [0., 0.],\n",
       "         [0., 0.]],\n",
       " \n",
       "        [[0., 0.],\n",
       "         [0., 0.],\n",
       "         [0., 0.]],\n",
       " \n",
       "        [[0., 0.],\n",
       "         [0., 0.],\n",
       "         [0., 0.]]]))"
      ]
     },
     "execution_count": 42,
     "metadata": {},
     "output_type": "execute_result"
    }
   ],
   "source": [
    "dst_mat = distance_matrix( matrix )\n",
    "dst_sqr = distance_squared_matrix( matrix )\n",
    "dif_mat = difference_matrix( matrix )\n",
    "\n",
    "dst_mat, dst_sqr, dif_mat"
   ]
  },
  {
   "cell_type": "code",
   "execution_count": null,
   "id": "d0ae3ea0-dad2-411d-8d78-d162070ec6b0",
   "metadata": {},
   "outputs": [],
   "source": []
  }
 ],
 "metadata": {
  "kernelspec": {
   "display_name": "Python 3 (ipykernel)",
   "language": "python",
   "name": "python3"
  },
  "language_info": {
   "codemirror_mode": {
    "name": "ipython",
    "version": 3
   },
   "file_extension": ".py",
   "mimetype": "text/x-python",
   "name": "python",
   "nbconvert_exporter": "python",
   "pygments_lexer": "ipython3",
   "version": "3.9.13"
  }
 },
 "nbformat": 4,
 "nbformat_minor": 5
}
