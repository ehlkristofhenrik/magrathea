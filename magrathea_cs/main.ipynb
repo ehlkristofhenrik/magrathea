{
 "cells": [
  {
   "cell_type": "code",
   "execution_count": 1,
   "metadata": {},
   "outputs": [],
   "source": [
    "from point import Point"
   ]
  },
  {
   "cell_type": "code",
   "execution_count": 3,
   "metadata": {},
   "outputs": [
    {
     "name": "stdout",
     "output_type": "stream",
     "text": [
      "[Point( 1.0, 2.0, w = 1.0 ), Point( 3.0, 4.0, w = 1.0 ), Point( 4.0, 5.0, w = 1.0 )]\n",
      "[Point( 1.04, 2.04, w = 1.0 ), Point( 3.02, 4.03, w = 1.0 ), Point( 3.93, 4.93, w = 1.0 )]\n",
      "[Point( 1.08, 2.08, w = 1.0 ), Point( 3.05, 4.05, w = 1.0 ), Point( 3.86, 4.86, w = 1.0 )]\n",
      "[Point( 1.13, 2.13, w = 1.0 ), Point( 3.09, 4.09, w = 1.0 ), Point( 3.78, 4.78, w = 1.0 )]\n",
      "[Point( 1.17, 2.17, w = 1.0 ), Point( 3.13, 4.13, w = 1.0 ), Point( 3.69, 4.69, w = 1.0 )]\n",
      "MERGE\n",
      "[Point( 1.22, 2.22, w = 1.0 ), None, Point( 3.68, 4.68, w = 2.1 )]\n",
      "[Point( 1.26, 2.26, w = 1.0 ), None, Point( 3.67, 4.67, w = 2.1 )]\n",
      "[Point( 1.3, 2.3, w = 1.0 ), None, Point( 3.66, 4.66, w = 2.1 )]\n",
      "[Point( 1.35, 2.35, w = 1.0 ), None, Point( 3.65, 4.65, w = 2.1 )]\n",
      "[Point( 1.39, 2.39, w = 1.0 ), None, Point( 3.64, 4.64, w = 2.1 )]\n",
      "[Point( 1.44, 2.44, w = 1.0 ), None, Point( 3.63, 4.63, w = 2.1 )]\n",
      "[Point( 1.44, 2.44, w = 1.0 ), None, Point( 3.63, 4.63, w = 2.1 )]\n"
     ]
    }
   ],
   "source": [
    "def add_points( A, B ):\n",
    "\tif A == None or B == None:\n",
    "\t\treturn None\n",
    "\treturn Point( A.x + B.x, A.y + B.y, w = A.w )\n",
    "\n",
    "def gravitate( Buff, α = .01, β = .1, γ = .0 ):\n",
    "\t\n",
    "\tDisp = [ Point( 0, 0 ) for i in Buff ]\n",
    "\n",
    "\tfor i, A in enumerate( Buff ):\n",
    "\n",
    "\t\td = Point( 0, 0 )\n",
    "\n",
    "\t\tfor j, B in enumerate( Buff ):\n",
    "\n",
    "\t\t\tif A == None:\n",
    "\t\t\t\tbreak\n",
    "\n",
    "\t\t\tif i == j or B == None:\n",
    "\t\t\t\tcontinue\n",
    "\t\t\t\n",
    "\t\t\t# B <- A \n",
    "\t\t\tΔ = B - A\n",
    "\n",
    "\t\t\tif Δ.len() <= ( A.w + B.w ) * β:\n",
    "\t\t\t\t# Merge points\n",
    "\n",
    "\t\t\t\tprint( \"MERGE\" )\n",
    "\n",
    "\t\t\t\tBuff[j].w = Buff[j].w + Buff[i].w + γ\n",
    "\t\t\t\tBuff[i] = None\n",
    "\t\t\t\tbreak\n",
    "\t\t\t\n",
    "\t\t\td = d + (\n",
    "\t\t\t\t( Δ / max( Δ.len_sqr(), 1 ) )\n",
    "\t\t\t\t* α \n",
    "\t\t\t\t* ( B.w / A.w )\n",
    "\t\t\t)\n",
    "\t\t\t\n",
    "\t\tDisp[i] = d\n",
    "\t\n",
    "\treturn [ add_points( A, B ) for A, B in zip( Buff, Disp ) ]\n",
    "\n",
    "Buffer = [\n",
    "\tPoint( 1, 2 ),\n",
    "\tPoint( 3, 4 ),\n",
    "\tPoint( 4, 5 )\n",
    "]\n",
    "\n",
    "EPOCH = 10\n",
    "\n",
    "print( Buffer )\n",
    "\n",
    "for i in range( EPOCH ):\n",
    "\tBuffer = gravitate( Buffer, α = .1, β = .4, γ = .1 )\n",
    "\tprint( Buffer )\n",
    "\n",
    "print( Buffer )"
   ]
  }
 ],
 "metadata": {
  "kernelspec": {
   "display_name": "Python 3",
   "language": "python",
   "name": "python3"
  },
  "language_info": {
   "codemirror_mode": {
    "name": "ipython",
    "version": 3
   },
   "file_extension": ".py",
   "mimetype": "text/x-python",
   "name": "python",
   "nbconvert_exporter": "python",
   "pygments_lexer": "ipython3",
   "version": "3.9.13"
  },
  "orig_nbformat": 4,
  "vscode": {
   "interpreter": {
    "hash": "6ce9513f212f581cbd15a80ff58f96b77343854734ce7d889c32b74481229224"
   }
  }
 },
 "nbformat": 4,
 "nbformat_minor": 2
}
